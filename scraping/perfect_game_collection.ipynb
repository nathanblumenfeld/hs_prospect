{
 "cells": [
  {
   "cell_type": "code",
   "execution_count": 2,
   "id": "23b0adf5-ad4a-4c65-96f1-e4adb0c4559a",
   "metadata": {},
   "outputs": [],
   "source": [
    "from bs4 import BeautifulSoup\n",
    "import requests\n",
    "import pandas as pd \n",
    "import numpy as np\n",
    "import lxml "
   ]
  },
  {
   "cell_type": "code",
   "execution_count": 17,
   "id": "3c874fdc-ba81-49f7-8502-64e3483c8e27",
   "metadata": {},
   "outputs": [],
   "source": [
    "\n",
    "# https://www.perfectgame.org/Rankings/Players/NationalRankings.aspx\n",
    "# params: gyear \n",
    "# https://www.perfectgame.org/Rankings/Players/FollowList.aspx\n",
    "# params: gyear\n",
    "# https://www.perfectgame.org/Rankings/Players/HighFollowList.aspx\n",
    "# params: gyear\n",
    "\n",
    "# https://www.baseballfactory.com/recruiting-and-promotion/the-top-100/?y=2019\n",
    "# https://athlonsports.com/mlb/2021-mlb-draft-top-50-high-school-draft-prospects\n",
    "urls = {'perfect_game':'https://www.perfectgame.org/Rankings/Players/NationalRankings.aspx',\n",
    "        'baseball_factory':'https://www.baseballfactory.com/recruiting-and-promotion/the-top-100/', \n",
    "       }"
   ]
  },
  {
   "cell_type": "code",
   "execution_count": 18,
   "id": "d644fbb9-9592-47a4-8b2f-64eae169f05f",
   "metadata": {},
   "outputs": [
    {
     "data": {
      "text/plain": [
       "'1'"
      ]
     },
     "execution_count": 18,
     "metadata": {},
     "output_type": "execute_result"
    }
   ],
   "source": [
    "source = 'perfect_game'\n",
    "year = 2017\n",
    "payload = {'gyear':str(year)}\n",
    "url = urls[source]\n",
    "r = requests.get(url, params=payload)\n",
    "response = r.text\n",
    "soup = BeautifulSoup(response)\n",
    "table = soup.find(id='ContentTopLevel_ContentPlaceHolder1_gvPlayers')\n",
    "\n",
    "# a IDs\n",
    "# ContentTopLevel_ContentPlaceHolder1_gvPlayers_hlPlayerName_0\n",
    "# ContentTopLevel_ContentPlaceHolder1_gvPlayers_hl4yr_0\n",
    "# ContentTopLevel_ContentPlaceHolder1_gvPlayers_hlTournamentTeam_0\n",
    "\n",
    "# span IDs\n",
    "# ContentTopLevel_ContentPlaceHolder1_gvPlayers_lblNatRank_\n",
    "# ContentTopLevel_ContentPlaceHolder1_gvPlayers_lblHeight_\n",
    "# ContentTopLevel_ContentPlaceHolder1_gvPlayers_lblWeight_\n",
    "# ContentTopLevel_ContentPlaceHolder1_gvPlayers_lblBatsThrows_\n",
    "# ContentTopLevel_ContentPlaceHolder1_gvPlayers_lblHometown_\n",
    "# ContentTopLevel_ContentPlaceHolder1_gvPlayers_lblDrafted_\n",
    "# ContentTopLevel_ContentPlaceHolder1_gvPlayers_lblDebuted_\n",
    "# ContentTopLevel_ContentPlaceHolder1_gvPlayers_lblTravelTeam_\n",
    "# ContentTopLevel_ContentPlaceHolder1_gvPlayers_InternalCommentLiteral_\n",
    "\n",
    "v = table.find(id='ContentTopLevel_ContentPlaceHolder1_gvPlayers_lblNatRank_0').string\n",
    "str(v)"
   ]
  },
  {
   "cell_type": "code",
   "execution_count": 59,
   "id": "a99961d5-46b8-4efb-963c-cf4a5f150de8",
   "metadata": {},
   "outputs": [],
   "source": [
    "ids = {'player_name':'ContentTopLevel_ContentPlaceHolder1_gvPlayers_hlPlayerName_',\n",
    "    'college':'ContentTopLevel_ContentPlaceHolder1_gvPlayers_hl4yr_',\n",
    "    'rank':'ContentTopLevel_ContentPlaceHolder1_gvPlayers_lblNatRank_',\n",
    "    'height':'ContentTopLevel_ContentPlaceHolder1_gvPlayers_lblHeight_',\n",
    "    'weight':'ContentTopLevel_ContentPlaceHolder1_gvPlayers_lblWeight_',\n",
    "    'bats/throws':'ContentTopLevel_ContentPlaceHolder1_gvPlayers_lblBatsThrows_',\n",
    "    'hometown':'ContentTopLevel_ContentPlaceHolder1_gvPlayers_lblHometown_',\n",
    "    'drafted':'ContentTopLevel_ContentPlaceHolder1_gvPlayers_lblDrafted_',\n",
    "    'debuted':'ContentTopLevel_ContentPlaceHolder1_gvPlayers_lblDebuted_',\n",
    "    'travel_team':'ContentTopLevel_ContentPlaceHolder1_gvPlayers_lblTravelTeam_',\n",
    "    'notes':'ContentTopLevel_ContentPlaceHolder1_gvPlayers_InternalCommentLiteral_'\n",
    "      }\n",
    "source = 'perfect_game'\n",
    "url = urls[source]\n",
    "\n",
    "dfs = {}\n",
    "for year in range(2002, 2022):\n",
    "    payload = {'gyear':str(year)}\n",
    "    r = requests.get(url, params=payload)\n",
    "    response = r.text\n",
    "    soup = BeautifulSoup(response)\n",
    "    table = soup.find(id='ContentTopLevel_ContentPlaceHolder1_gvPlayers')\n",
    "\n",
    "    \n",
    "    data = {}\n",
    "    for i in range(100):\n",
    "        details = []\n",
    "        for key in ids:\n",
    "            try: \n",
    "                details.append(str(table.find(id=ids[key]+str(i)).string))\n",
    "            except: \n",
    "                details.append('NULL')\n",
    "        data[i]=details\n",
    "    df = pd.DataFrame.from_dict(data, orient='index')\n",
    "    df.columns = ids.keys()\n",
    "    df = df.iloc[:50]\n",
    "    df['class_year'] = year\n",
    "    dfs[str(year)] = df\n",
    "    "
   ]
  },
  {
   "cell_type": "code",
   "execution_count": 80,
   "id": "6a933c9b-a51e-4c15-b075-079ca00a9e2d",
   "metadata": {},
   "outputs": [],
   "source": [
    "data = pd.DataFrame()\n",
    "for i in dfs.items():\n",
    "    data =data.append(i[1])\n",
    "data.to_csv('data/perfectgame/perfectgame_top50_2002-2021_raw.csv', index=False)"
   ]
  },
  {
   "cell_type": "code",
   "execution_count": null,
   "id": "0adaed66-6df5-479e-bbc7-47bdca067beb",
   "metadata": {},
   "outputs": [],
   "source": [
    "source = 'baseball_factory'\n",
    "year = 2017\n",
    "payload = {'y':str(year)}\n",
    "url = urls[source]\n",
    "r = requests.get(url, params=payload)\n",
    "response = r.text\n",
    "soup = BeautifulSoup(response)\n",
    "a = soup.find_all('article', id='prospects')[0]\n",
    "# class=\"rank\""
   ]
  },
  {
   "cell_type": "code",
   "execution_count": null,
   "id": "fc289f84-6953-4565-97da-c22d1ade92a2",
   "metadata": {},
   "outputs": [],
   "source": [
    "res = []\n",
    "last = ''\n",
    "k = 1\n",
    "for i in a.descendants: \n",
    "    if i.string is not None: \n",
    "        if i.string != '\\n':\n",
    "            if i.string != 'Watch Video':\n",
    "                if i.string != last: \n",
    "                    if k % 22 == 0: \n",
    "                        details = ''\n",
    "                        details+= (str(i.string))+', '\n",
    "                    if k % 21 == 0:\n",
    "                        res.append((k, details))\n",
    "                    last = i.string\n",
    "                    k+=1 \n",
    "res\n",
    "\n"
   ]
  }
 ],
 "metadata": {
  "kernelspec": {
   "display_name": "Python 3 (ipykernel)",
   "language": "python",
   "name": "python3"
  },
  "language_info": {
   "codemirror_mode": {
    "name": "ipython",
    "version": 3
   },
   "file_extension": ".py",
   "mimetype": "text/x-python",
   "name": "python",
   "nbconvert_exporter": "python",
   "pygments_lexer": "ipython3",
   "version": "3.9.7"
  }
 },
 "nbformat": 4,
 "nbformat_minor": 5
}
