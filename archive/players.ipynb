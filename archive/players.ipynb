{
 "cells": [
  {
   "cell_type": "code",
   "execution_count": null,
   "id": "b947ad21-bda4-4fbd-9ee4-65ad56ffd31b",
   "metadata": {},
   "outputs": [],
   "source": [
    "import pandas as pd"
   ]
  },
  {
   "cell_type": "code",
   "execution_count": null,
   "id": "54177d1e-11fe-4a52-a88b-8316b64fbe4b",
   "metadata": {},
   "outputs": [],
   "source": [
    "players = pd.read_csv('data/ncaa/ncaa_players_2013-2021.csv', index_col=False)\n",
    "# players = players.iloc[:, 1:]\n",
    "players.groupby(by='stats_player_seq').agg({'season':'count', 'games_played':'sum'}).reset_index().sort_values(by='season', ascending=False)"
   ]
  },
  {
   "cell_type": "code",
   "execution_count": null,
   "id": "647b903e-cba2-4d65-a5d4-cd40ccae4229",
   "metadata": {},
   "outputs": [],
   "source": [
    "players = pd.read_csv('data/ncaa/ncaa_players_2013-2021.csv', index_col=False)\n",
    "# players = players.iloc[:, 1:]\n",
    "# players.sort_values(by='stats_player_seq').to_csv('data/ncaa/sorted.csv')"
   ]
  },
  {
   "cell_type": "code",
   "execution_count": null,
   "id": "3b7c1f72-9bc9-409b-9a48-8c68a03790fc",
   "metadata": {},
   "outputs": [],
   "source": [
    "players = pd.read_csv('data/ncaa/ncaa_players_2013-2021.csv', index_col=False)\n",
    "players = players.iloc[:, 1:]\n",
    "cornell = players.loc[players.school_id==167]\n",
    "cornell.sort_values(by='games_played', ascending=False)"
   ]
  },
  {
   "cell_type": "code",
   "execution_count": null,
   "id": "63e3a951-a761-452a-a932-19a47ff6d720",
   "metadata": {},
   "outputs": [],
   "source": [
    "players = pd.read_csv('data/ncaa/ncaa_players_2013-2021.csv', index_col=False)\n",
    "players = players.iloc[:, 1:]\n",
    "players"
   ]
  },
  {
   "cell_type": "code",
   "execution_count": null,
   "id": "33e04572-a4a7-46e7-b6c7-5b79f6b20063",
   "metadata": {},
   "outputs": [],
   "source": [
    "seasons = pd.read_csv('data/ncaa/ncaa_seasonid_lu.csv').iloc[:,1:]\n",
    "players = pd.read_csv('data/ncaa/ncaa_players_2013-2021.csv').iloc[:,1:]\n",
    "players"
   ]
  },
  {
   "cell_type": "code",
   "execution_count": null,
   "id": "73d3d9d3-ff5f-44d8-b951-6f5e9dbcba77",
   "metadata": {},
   "outputs": [],
   "source": [
    "seasons = pd.read_csv('data/ncaa/ncaa_seasonid_lu.csv').iloc[:,1:]\n",
    "players = pd.read_csv('data/ncaa/ncaa_players_2013-2021.csv').iloc[:,1:]\n",
    "players = players.merge(seasons, how='left', on='season')\n",
    "players = players.rename(columns={'id':'season_id'})\n",
    "players.to_csv('data/ncaa/player_seasons.csv')\n",
    "pd.read_csv('data/ncaa/player_seasons.csv').iloc[:,1:].to_csv('data/ncaa/player_seasons.csv', index=False)"
   ]
  }
 ],
 "metadata": {
  "kernelspec": {
   "display_name": "Python 3 (ipykernel)",
   "language": "python",
   "name": "python3"
  },
  "language_info": {
   "codemirror_mode": {
    "name": "ipython",
    "version": 3
   },
   "file_extension": ".py",
   "mimetype": "text/x-python",
   "name": "python",
   "nbconvert_exporter": "python",
   "pygments_lexer": "ipython3",
   "version": "3.9.7"
  }
 },
 "nbformat": 4,
 "nbformat_minor": 5
}
